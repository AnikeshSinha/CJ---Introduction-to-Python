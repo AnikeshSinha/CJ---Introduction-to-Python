{
 "cells": [
  {
   "cell_type": "markdown",
   "metadata": {},
   "source": [
    "Check Number "
   ]
  },
  {
   "cell_type": "code",
   "execution_count": null,
   "metadata": {},
   "outputs": [],
   "source": [
    "n=int(input())\n",
    "if n>=1:\n",
    "    print(\"Positive\")\n",
    "elif n==0:\n",
    "    print(\"Zero\")\n",
    "elif n<0:\n",
    "    print(\"Negative\")"
   ]
  },
  {
   "cell_type": "markdown",
   "metadata": {},
   "source": [
    "Sum of N numbers"
   ]
  },
  {
   "cell_type": "code",
   "execution_count": null,
   "metadata": {},
   "outputs": [],
   "source": [
    "n=int(input())\n",
    "sum=0\n",
    "while n>=0:\n",
    "    sum=sum+n\n",
    "    n=n-1\n",
    "print(sum)"
   ]
  },
  {
   "cell_type": "markdown",
   "metadata": {},
   "source": [
    "Sum of Even Numbers\n"
   ]
  },
  {
   "cell_type": "code",
   "execution_count": null,
   "metadata": {},
   "outputs": [],
   "source": [
    "n = int(input()) \n",
    "sum = 0 \n",
    "i=2 \n",
    "while i<=n: \n",
    "    sum += i \n",
    "    i += 2 \n",
    "print(sum)\n"
   ]
  },
  {
   "cell_type": "markdown",
   "metadata": {},
   "source": [
    "Fahrenheit to Celsius (TEMP)\n"
   ]
  },
  {
   "cell_type": "code",
   "execution_count": null,
   "metadata": {},
   "outputs": [],
   "source": [
    "s=int(input())\n",
    "e=int(input())\n",
    "w=int(input())\n",
    "while s<=e:\n",
    "    c=int((s-32)*5/9)\n",
    "    print(s,\"\",c)\n",
    "    s=s+w"
   ]
  },
  {
   "cell_type": "markdown",
   "metadata": {},
   "source": [
    "Calculator"
   ]
  },
  {
   "cell_type": "code",
   "execution_count": null,
   "metadata": {},
   "outputs": [],
   "source": [
    "bFlag = True\n",
    "while bFlag:\n",
    "    ch = int(input())\n",
    "    if ch == 1:\n",
    "        a = int(input())\n",
    "        b = int(input())\n",
    "        print(a + b)\n",
    "        \n",
    "    elif ch == 2:\n",
    "        a = int(input())\n",
    "        b = int(input())\n",
    "        print(a - b)\n",
    "        \n",
    "    elif ch == 3:\n",
    "        a = int(input())\n",
    "        b = int(input())\n",
    "        print(a * b)\n",
    "        \n",
    "    elif ch == 4:\n",
    "        a = int(input())\n",
    "        b = int(input())\n",
    "        print(a // b)\n",
    "        \n",
    "        \n",
    "    elif ch == 5:\n",
    "        a = int(input())\n",
    "        b = int(input())\n",
    "        print(a % b)\n",
    "        \n",
    "    elif ch == 6:\n",
    "        bFlag = False\n",
    "        exit\n",
    "        \n",
    "    else:\n",
    "        print(\"Invalid Operation\")"
   ]
  },
  {
   "cell_type": "markdown",
   "metadata": {},
   "source": [
    "Reverse of a Number"
   ]
  },
  {
   "cell_type": "code",
   "execution_count": null,
   "metadata": {},
   "outputs": [],
   "source": [
    "n=int(input())\n",
    "rev=0\n",
    "while(n>0):\n",
    "    dig=n%10\n",
    "    rev=rev*10+dig\n",
    "    n=n//10\n",
    "print(rev)"
   ]
  },
  {
   "cell_type": "markdown",
   "metadata": {},
   "source": [
    "Palindrome Number\n"
   ]
  },
  {
   "cell_type": "code",
   "execution_count": 4,
   "metadata": {},
   "outputs": [
    {
     "name": "stdout",
     "output_type": "stream",
     "text": [
      "1234\n",
      "false\n"
     ]
    }
   ],
   "source": [
    "number = int(input())\n",
    "palu = number\n",
    "Reverse = 0    \n",
    "while(number > 0):    \n",
    "    Reminder = number %10    \n",
    "    Reverse = (Reverse *10) + Reminder    \n",
    "    number = number //10\n",
    "if (palu==Reverse):\n",
    "    print(\"true\")\n",
    "else:\n",
    "    print(\"false\")\n",
    "    "
   ]
  },
  {
   "cell_type": "markdown",
   "metadata": {},
   "source": [
    "Sum of even & odd"
   ]
  },
  {
   "cell_type": "code",
   "execution_count": null,
   "metadata": {},
   "outputs": [],
   "source": [
    "Number=int(input())\n",
    "even=0\n",
    "odd=0\n",
    "while(Number>0):\n",
    "    Reminder = Number %10\n",
    "    if(Reminder % 2 == 0):\n",
    "        even=even + Reminder\n",
    "    else:\n",
    "        odd= odd + Reminder\n",
    "    Number = Number //10\n",
    "print(even,\"\",odd)"
   ]
  },
  {
   "cell_type": "markdown",
   "metadata": {},
   "source": [
    "Nth Fibonacci Number\n"
   ]
  },
  {
   "cell_type": "code",
   "execution_count": null,
   "metadata": {},
   "outputs": [],
   "source": [
    "n = int(input()) \n",
    "a = 0\n",
    "b = 1 \n",
    "c = -1 \n",
    "for i in range(n) :\n",
    "    c = a + b\n",
    "    a = b \n",
    "    b = c \n",
    "print(a)"
   ]
  }
 ],
 "metadata": {
  "kernelspec": {
   "display_name": "Python 3",
   "language": "python",
   "name": "python3"
  },
  "language_info": {
   "codemirror_mode": {
    "name": "ipython",
    "version": 3
   },
   "file_extension": ".py",
   "mimetype": "text/x-python",
   "name": "python",
   "nbconvert_exporter": "python",
   "pygments_lexer": "ipython3",
   "version": "3.8.5"
  }
 },
 "nbformat": 4,
 "nbformat_minor": 4
}
