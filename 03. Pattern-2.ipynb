{
 "cells": [
  {
   "cell_type": "raw",
   "metadata": {},
   "source": [
    "Inverted Number Pattern\n",
    "Pattern for N = 4\n",
    "4444\n",
    "333\n",
    "22\n",
    "1"
   ]
  },
  {
   "cell_type": "code",
   "execution_count": 1,
   "metadata": {},
   "outputs": [
    {
     "name": "stdout",
     "output_type": "stream",
     "text": [
      "4\n",
      "4444\n",
      "333\n",
      "22\n",
      "1\n"
     ]
    }
   ],
   "source": [
    "n = int(input())\n",
    "i = 1\n",
    "while i<=n:\n",
    "    j = 1\n",
    "    p = 1\n",
    "    while j <= n - i + 1:\n",
    "        p = n-i+1\n",
    "        print(p,end='')\n",
    "        j = j + 1\n",
    "    print()\n",
    "    i = i + 1"
   ]
  },
  {
   "cell_type": "raw",
   "metadata": {},
   "source": [
    "Mirror Number Pattern\n",
    "\n",
    "Sample Output 2:\n",
    "   1 \n",
    "  12\n",
    " 123\n",
    "1234"
   ]
  },
  {
   "cell_type": "code",
   "execution_count": 2,
   "metadata": {},
   "outputs": [
    {
     "name": "stdout",
     "output_type": "stream",
     "text": [
      "4\n",
      "   1\n",
      "  12\n",
      " 123\n",
      "1234\n"
     ]
    }
   ],
   "source": [
    "n = int(input()) \n",
    "currRow = 1 \n",
    "while currRow <= n: \n",
    "    currCol = 1\n",
    "    spaces = 1 \n",
    "    while spaces <= n - currRow : \n",
    "        print(\" \", end = \"\") \n",
    "        spaces += 1\n",
    "    while currCol <= currRow:\n",
    "        print(currCol, end = \"\")\n",
    "        currCol += 1 \n",
    "    print()\n",
    "    currRow += 1\n"
   ]
  },
  {
   "cell_type": "raw",
   "metadata": {},
   "source": [
    "Star Pattern\n",
    "\n",
    "Pattern for N = 4 :\n",
    "    *\n",
    "   *** \n",
    "  *****\n",
    " *******"
   ]
  },
  {
   "cell_type": "code",
   "execution_count": 3,
   "metadata": {},
   "outputs": [
    {
     "name": "stdout",
     "output_type": "stream",
     "text": [
      "4\n",
      "   *\n",
      "  ***\n",
      " *****\n",
      "*******\n"
     ]
    }
   ],
   "source": [
    "n = int(input()) \n",
    "currRow = 1\n",
    "while currRow <= n: \n",
    "    spaces = 1\n",
    "    while spaces <= (n - currRow) :\n",
    "        print(\" \", end = \"\") \n",
    "        spaces += 1 \n",
    "    currCol = 1 \n",
    "    while currCol <= ((2 * currRow) - 1) : \n",
    "        print(\"*\", end = \"\") \n",
    "        currCol += 1 \n",
    "    print() \n",
    "    currRow += 1"
   ]
  },
  {
   "cell_type": "raw",
   "metadata": {},
   "source": [
    "Triangle of Numbers\n",
    "Pattern for N = 5:\n",
    "       1\n",
    "      232\n",
    "     34543\n",
    "    4567654\n",
    "   567898765"
   ]
  },
  {
   "cell_type": "code",
   "execution_count": 4,
   "metadata": {},
   "outputs": [
    {
     "name": "stdout",
     "output_type": "stream",
     "text": [
      "5\n",
      "    1\n",
      "   232\n",
      "  34543\n",
      " 4567654\n",
      "567898765\n"
     ]
    }
   ],
   "source": [
    "n = int(input())\n",
    "currRow = 1 \n",
    "while currRow <= n: \n",
    "    spaces = 1 \n",
    "    while spaces <= (n - currRow) : \n",
    "        print(\" \", end = \"\") \n",
    "        spaces += 1\n",
    "    currCol = 1 \n",
    "    valToPrint = currRow \n",
    "    while currCol <= currRow :\n",
    "        print(valToPrint, end = \"\")\n",
    "        valToPrint += 1\n",
    "        currCol += 1\n",
    "    currCol = 1 \n",
    "    valToPrint = 2 * currRow - 2\n",
    "    while currCol <= currRow - 1 :\n",
    "        print(valToPrint, end = \"\") \n",
    "        valToPrint -= 1 \n",
    "        currCol += 1\n",
    "    print() \n",
    "    currRow += 1"
   ]
  },
  {
   "cell_type": "raw",
   "metadata": {},
   "source": [
    "Diamond of stars\n",
    "\n",
    "Pattern for N = 5:\n",
    "  *\n",
    " ***\n",
    "*****\n",
    " ***\n",
    "  *"
   ]
  },
  {
   "cell_type": "code",
   "execution_count": 5,
   "metadata": {},
   "outputs": [
    {
     "name": "stdout",
     "output_type": "stream",
     "text": [
      "5\n",
      "  *\n",
      " ***\n",
      "*****\n",
      " ***\n",
      "  *\n",
      "   \n"
     ]
    }
   ],
   "source": [
    "n = int(input())\n",
    "i = 1\n",
    "n1 = (n + 1) // 2\n",
    "n2 = n//2\n",
    "while i <= n1:\n",
    "    s = 1\n",
    "    while s <= n1 - i:\n",
    "        print(' ',end= \"\")\n",
    "        s = s + 1\n",
    "    j = 1\n",
    "    while j <= 2*i - 1:\n",
    "        print('*',end= \"\")\n",
    "        j = j + 1\n",
    "    print()\n",
    "    i = i + 1\n",
    "i = n//2\n",
    "while i <= n//2:\n",
    "    s = 1\n",
    "    while s <= n2 - i + 1:\n",
    "        print(' ',end= \"\")\n",
    "        s = s + 1\n",
    "    j = 1\n",
    "    while j <= 2*i - 1:\n",
    "        print('*',end= \"\")\n",
    "        j = j + 1\n",
    "    print()\n",
    "    \n",
    "    if i==0:\n",
    "        break\n",
    "    i = i - 1"
   ]
  },
  {
   "cell_type": "raw",
   "metadata": {},
   "source": [
    "Number Pattern\n",
    "\n",
    "For eg. N = 5\n",
    "\n",
    "1        1\n",
    "12      21\n",
    "123    321\n",
    "1234  4321\n",
    "1234554321"
   ]
  },
  {
   "cell_type": "code",
   "execution_count": 6,
   "metadata": {},
   "outputs": [
    {
     "name": "stdout",
     "output_type": "stream",
     "text": [
      "5\n",
      "1        1\n",
      "12      21\n",
      "123    321\n",
      "1234  4321\n",
      "1234554321\n"
     ]
    }
   ],
   "source": [
    "a=int(input())\n",
    "\n",
    "for k in range(1,a+1):\n",
    "    b='1'\n",
    "    for i in range(2,a+1):\n",
    "        c=str(i)\n",
    "        if k >= i:\n",
    "            b=b+c\n",
    "        else:\n",
    "            b=b+' '\n",
    "    for j in range(a,0,-1):\n",
    "        d=str(j)\n",
    "        if k >= j:\n",
    "            b=b+d\n",
    "        else:\n",
    "            b=b+' '\n",
    "    print(b)\n",
    "    \n",
    "# n = int(input())\n",
    "# i  = 1\n",
    "# while i<=n:\n",
    "#     j = 1\n",
    "#     while j <= i:\n",
    "#         print(j,end=\"\")\n",
    "#         j = j + 1\n",
    "#     k = 0\n",
    "#     while k <(2*n-2*i):\n",
    "#         print(\" \",end= \"\")\n",
    "#         k = k + 1\n",
    "#     l = i\n",
    "#     while l>=1:\n",
    "#         print(l,end=\"\")\n",
    "#         l = l - 1\n",
    "    \n",
    "#     i = i + 1\n",
    "#     print()"
   ]
  },
  {
   "cell_type": "raw",
   "metadata": {},
   "source": [
    "Zero and Stars Pattern\n",
    "\n",
    "Pattern for N = 4\n",
    "*000*000*\n",
    "0*00*00*0\n",
    "00*0*0*00\n",
    "000***000"
   ]
  },
  {
   "cell_type": "code",
   "execution_count": 2,
   "metadata": {},
   "outputs": [
    {
     "name": "stdout",
     "output_type": "stream",
     "text": [
      "5\n",
      "*0000*0000*\n",
      "0*000*000*0\n",
      "00*00*00*00\n",
      "000*0*0*000\n",
      "0000***0000\n"
     ]
    }
   ],
   "source": [
    "lines=int(input()) \n",
    "i=1  \n",
    "j=1  \n",
    "while i<=lines:  \n",
    "    j=1  \n",
    "    while j<=lines:      \n",
    "        if i==j:  \n",
    "            print(\"*\", end='', flush=True)  \n",
    "        else :  \n",
    "            print(\"0\", end='', flush=True)  \n",
    "        j=j+1\n",
    "    j=j-1;\n",
    "    print(\"*\", end='', flush=True)\n",
    "    while j>=1:\n",
    "        if i==j:\n",
    "            print(\"*\", end='', flush=True)\n",
    "        else :\n",
    "            print(\"0\", end='', flush=True)\n",
    "        j=j-1\n",
    "    print(\"\");\n",
    "    i=i+1"
   ]
  },
  {
   "cell_type": "raw",
   "metadata": {},
   "source": [
    "Pyramid Number Pattern\n",
    "\n",
    "Pattern for N = 4\n",
    "   1\n",
    "  212\n",
    " 32123\n",
    "4321234"
   ]
  },
  {
   "cell_type": "code",
   "execution_count": 3,
   "metadata": {},
   "outputs": [
    {
     "name": "stdout",
     "output_type": "stream",
     "text": [
      "5\n",
      "    1\n",
      "   212\n",
      "  32123\n",
      " 4321234\n",
      "543212345\n"
     ]
    }
   ],
   "source": [
    "num=int(input())\n",
    "for i in range(1,num+1):\n",
    "    for j in range(1,num-i+1):\n",
    "        print(end=\" \")\n",
    "    for j in range(i,0,-1):\n",
    "        print(j,end=\"\")\n",
    "    for j in range(2,i+1):\n",
    "        print(j,end=\"\")\n",
    "    print()"
   ]
  },
  {
   "cell_type": "raw",
   "metadata": {},
   "source": [
    "Arrow Pattern\n",
    "Pattern for N = 7\n",
    "*\n",
    " * *\n",
    "   * * *\n",
    "     * * * *\n",
    "   * * *\n",
    " * *\n",
    "*"
   ]
  },
  {
   "cell_type": "code",
   "execution_count": 7,
   "metadata": {},
   "outputs": [
    {
     "name": "stdout",
     "output_type": "stream",
     "text": [
      "7\n",
      "* \n",
      " * * \n",
      "  * * * \n",
      "   * * * * \n",
      "  * * * \n",
      " * * \n",
      "* \n"
     ]
    }
   ],
   "source": [
    "n = int(input())\n",
    "n1 = (n+1)//2\n",
    "n2 = n-n1\n",
    "\n",
    "for i in range(1,n1+1):\n",
    "    for j in range(1,i):\n",
    "        print(' ',end='')\n",
    "    for k in range(1,i+1):\n",
    "        print('* ',end='')\n",
    "    print()    \n",
    "\n",
    "for i in range(n2,0,-1):\n",
    "    for j in range(1,i):\n",
    "        print(' ',end='')\n",
    "    for k in range(1,i+1):\n",
    "        print('* ',end='')\n",
    "    print()"
   ]
  }
 ],
 "metadata": {
  "kernelspec": {
   "display_name": "Python 3",
   "language": "python",
   "name": "python3"
  },
  "language_info": {
   "codemirror_mode": {
    "name": "ipython",
    "version": 3
   },
   "file_extension": ".py",
   "mimetype": "text/x-python",
   "name": "python",
   "nbconvert_exporter": "python",
   "pygments_lexer": "ipython3",
   "version": "3.8.5"
  }
 },
 "nbformat": 4,
 "nbformat_minor": 4
}
