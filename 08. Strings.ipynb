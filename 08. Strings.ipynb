{
 "cells": [
  {
   "cell_type": "raw",
   "metadata": {},
   "source": [
    "Check Palindrome\n",
    "\n",
    "Sample Input 2:\n",
    "coding\n",
    "Sample Output 2:\n",
    "false"
   ]
  },
  {
   "cell_type": "code",
   "execution_count": null,
   "metadata": {},
   "outputs": [],
   "source": [
    "a=input()\n",
    "b=a[::-1]\n",
    "if(a==b):\n",
    "    print(\"true\")\n",
    "else:\n",
    "    print(\"false\")"
   ]
  },
  {
   "cell_type": "raw",
   "metadata": {},
   "source": [
    "Check Permutation\n",
    "Sample Input 2:\n",
    "abc\n",
    "cbd\n",
    "Sample Output 2:\n",
    "false"
   ]
  },
  {
   "cell_type": "code",
   "execution_count": null,
   "metadata": {},
   "outputs": [],
   "source": [
    "## Read input as specified in the question.\n",
    "## Print output as specified in the question.\n",
    "def arePermutation(str1, str2):\n",
    "    \n",
    "    n1 = len(str1) \n",
    "    n2 = len(str2)\n",
    "    if (n1 != n2):\n",
    "        return False\n",
    "  \n",
    "    # Sort both strings \n",
    "    a = sorted(str1) \n",
    "    str1 = \"\".join(a) \n",
    "    b = sorted(str2) \n",
    "    str2 = \"\".join(b) \n",
    "  \n",
    "    # Compare sorted strings \n",
    "    for i in range(0, n1, 1): \n",
    "        if (str1[i] != str2[i]): \n",
    "            return False\n",
    "  \n",
    "    return True\n",
    "  \n",
    "str1 = input()\n",
    "str2 = input()\n",
    "if (arePermutation(str1, str2)):\n",
    "    print(\"true\") \n",
    "else: \n",
    "    print(\"false\") "
   ]
  },
  {
   "cell_type": "raw",
   "metadata": {},
   "source": [
    "\n",
    "Remove Consecutive Duplicates\n",
    "\n",
    "Sample Input 2:\n",
    "xxyyzxx\n",
    "Sample Output 2:\n",
    "xyzx"
   ]
  },
  {
   "cell_type": "code",
   "execution_count": null,
   "metadata": {},
   "outputs": [],
   "source": [
    "## Read input as specified in the question.\n",
    "## Print output as specified in the question.\n",
    "import itertools\n",
    "def remove_consecutive_duplicates(s1):\n",
    "     return (''.join(i for i, _ in itertools.groupby(s1)))\n",
    "\n",
    "s1= input()\n",
    "print(remove_consecutive_duplicates(s1))"
   ]
  },
  {
   "cell_type": "raw",
   "metadata": {},
   "source": [
    "\n",
    "Reverse Each Word\n",
    "\n",
    "Sample Input 2:\n",
    "Always indent your code\n",
    "Sample Output 2:\n",
    "syawlA tnedni ruoy edoc"
   ]
  },
  {
   "cell_type": "code",
   "execution_count": null,
   "metadata": {},
   "outputs": [],
   "source": [
    "def reverseword(s): \n",
    "   \n",
    "   w = s.split(\" \")        \n",
    "                           \n",
    "   nw= [i[::-1] for i in w]\n",
    "                          \n",
    "   ns = \" \".join(nw)\n",
    "   return ns\n",
    "# Driver's Code \n",
    "s = input()\n",
    "print(reverseword(s))"
   ]
  },
  {
   "cell_type": "raw",
   "metadata": {},
   "source": [
    "Remove character\n",
    "\n",
    "Sample Input 2:\n",
    "xxyyzxx\n",
    "y\n",
    "Sample Output 2:\n",
    "xxzxx"
   ]
  },
  {
   "cell_type": "code",
   "execution_count": null,
   "metadata": {},
   "outputs": [],
   "source": [
    "s=input()\n",
    "ch=input()\n",
    "print(s.replace(ch, ''))"
   ]
  },
  {
   "cell_type": "raw",
   "metadata": {},
   "source": [
    "Highest Occurring Character\n",
    "\n",
    "Sample Input 2:\n",
    "xy\n",
    "Sample Output 2:\n",
    "x"
   ]
  },
  {
   "cell_type": "code",
   "execution_count": 3,
   "metadata": {},
   "outputs": [
    {
     "name": "stdout",
     "output_type": "stream",
     "text": [
      "xy\n",
      "x\n"
     ]
    }
   ],
   "source": [
    "## Read input as specified in the question.\n",
    "## Print output as specified in the question.\n",
    "def get_max_occuring_char(str1):\n",
    "  ASCII_SIZE = 256\n",
    "  ctr = [0] * ASCII_SIZE\n",
    "  max = -1\n",
    "  ch = ''\n",
    "  for i in str1:\n",
    "    ctr[ord(i)]+=1;\n",
    " \n",
    "  for i in str1:\n",
    "    if max < ctr[ord(i)]:\n",
    "      max = ctr[ord(i)]\n",
    "      ch = i\n",
    "  return ch\n",
    "\n",
    "str1=input()\n",
    "print(get_max_occuring_char(str1))"
   ]
  },
  {
   "cell_type": "raw",
   "metadata": {},
   "source": [
    "Compress the String\n",
    "\n",
    "Sample Input 2:\n",
    "aaabbcddeeeee\n",
    "Sample Output 2:\n",
    "a3b2cd2e5"
   ]
  },
  {
   "cell_type": "code",
   "execution_count": 2,
   "metadata": {},
   "outputs": [
    {
     "name": "stdout",
     "output_type": "stream",
     "text": [
      "aaabbcddeeeee\n",
      "a3b2cd2e5\n"
     ]
    }
   ],
   "source": [
    "## Read input as specified in the question.\n",
    "## Print output as specified in the question.\n",
    "def ab(a):\n",
    "    i=0\n",
    "    x=''\n",
    "    while(i<len(a)):\n",
    "        j=i+1\n",
    "        c=1\n",
    "        while j<len(a) and (a[i]==a[j]):\n",
    "            j+=1\n",
    "            c+=1\n",
    "        if c==1:\n",
    "            x+=a[i]\n",
    "        else:\n",
    "            x+=a[i]+str(c)\n",
    "        i=j\n",
    "    return x\n",
    "a=input()\n",
    "print(ab(a))"
   ]
  }
 ],
 "metadata": {
  "kernelspec": {
   "display_name": "Python 3",
   "language": "python",
   "name": "python3"
  },
  "language_info": {
   "codemirror_mode": {
    "name": "ipython",
    "version": 3
   },
   "file_extension": ".py",
   "mimetype": "text/x-python",
   "name": "python",
   "nbconvert_exporter": "python",
   "pygments_lexer": "ipython3",
   "version": "3.8.5"
  }
 },
 "nbformat": 4,
 "nbformat_minor": 4
}
