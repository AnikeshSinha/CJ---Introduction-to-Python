{
 "cells": [
  {
   "cell_type": "markdown",
   "metadata": {},
   "source": [
    "\n",
    "Fahrenheit to Celsius Function"
   ]
  },
  {
   "cell_type": "code",
   "execution_count": null,
   "metadata": {},
   "outputs": [],
   "source": [
    "\n",
    "\n",
    "\n",
    "def printTable(start,end,step):\n",
    "    while start<=end:\n",
    "        i=(start-32)* (5/9)\n",
    "        print(start,int(i))\n",
    "        start=start+step\n",
    "s = int(input())\n",
    "e = int(input())\n",
    "step = int(input())\n",
    "printTable(s,e,step)\n",
    "\n",
    "\n",
    "\n"
   ]
  },
  {
   "cell_type": "markdown",
   "metadata": {},
   "source": [
    "\n",
    "Fibonacci Member"
   ]
  },
  {
   "cell_type": "code",
   "execution_count": null,
   "metadata": {},
   "outputs": [],
   "source": [
    "\n",
    "f=0\n",
    "s=1\n",
    "t=1\n",
    "def checkMember(n):\n",
    "    global f\n",
    "    global s\n",
    "    global t\n",
    "    while t<=n:\n",
    "        t=f+s\n",
    "        f=s\n",
    "        s=t\n",
    "        if(f==n):\n",
    "            return True\n",
    "n=int(input())\n",
    "if(checkMember(n)):\n",
    "    print(\"true\")\n",
    "else:\n",
    "    print(\"false\")"
   ]
  },
  {
   "cell_type": "markdown",
   "metadata": {},
   "source": [
    "\n",
    "Palindrome number"
   ]
  },
  {
   "cell_type": "code",
   "execution_count": null,
   "metadata": {},
   "outputs": [],
   "source": [
    "def reverse(n):\n",
    "    rev = 0\n",
    "    while(n >0):\n",
    "        rem = n % 10\n",
    "        rev = (rev * 10) + rem\n",
    "        n = n//10\n",
    "    return rev \n",
    "\n",
    "def checkPalindrome(num):\n",
    "    rev = reverse(num)\n",
    "    if rev == num:\n",
    "        return 1\n",
    "    else:\n",
    "        return 0\n",
    "    \n",
    "\t\t\n",
    "num = int(input())\n",
    "isPalindrome = checkPalindrome(num)\n",
    "if(isPalindrome):\n",
    "\tprint('true')\n",
    "else:\n",
    "\tprint('false')"
   ]
  },
  {
   "cell_type": "markdown",
   "metadata": {},
   "source": [
    "\n",
    "Check Armstrong\n"
   ]
  },
  {
   "cell_type": "code",
   "execution_count": null,
   "metadata": {},
   "outputs": [],
   "source": [
    "def armstrong(n):\n",
    "    d = 0\n",
    "    temp = n\n",
    "    while temp > 0:\n",
    "        temp = temp // 10\n",
    "        d = d + 1\n",
    "    arm = 0\n",
    "    while n > 0:\n",
    "        rem = n % 10\n",
    "        arm = arm + rem ** d \n",
    "        n = n // 10\n",
    "    return arm\n",
    "\n",
    "n = int(input())\n",
    "temp = n\n",
    "x = armstrong(n)\n",
    "if temp == x:\n",
    "    print(\"true\")\n",
    "else:\n",
    "    print(\"false\")"
   ]
  }
 ],
 "metadata": {
  "kernelspec": {
   "display_name": "Python 3",
   "language": "python",
   "name": "python3"
  },
  "language_info": {
   "codemirror_mode": {
    "name": "ipython",
    "version": 3
   },
   "file_extension": ".py",
   "mimetype": "text/x-python",
   "name": "python",
   "nbconvert_exporter": "python",
   "pygments_lexer": "ipython3",
   "version": "3.8.5"
  }
 },
 "nbformat": 4,
 "nbformat_minor": 4
}
