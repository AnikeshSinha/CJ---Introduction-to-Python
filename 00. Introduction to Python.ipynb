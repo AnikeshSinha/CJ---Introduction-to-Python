{
 "cells": [
  {
   "cell_type": "raw",
   "metadata": {},
   "source": [
    "Find average Marks\n",
    "Sample Input 2 :\n",
    "5 \n",
    "10 \n",
    "5\n",
    "Sample Output 2 :\n",
    "6.666666666666667"
   ]
  },
  {
   "cell_type": "code",
   "execution_count": null,
   "metadata": {},
   "outputs": [],
   "source": [
    "# Read input as sepcified in the question\n",
    "# Print output as specified in the question\n",
    "a = int(input())\n",
    "b = int(input())\n",
    "c = int(input())\n",
    "#average = (a+b+c)/3\n",
    "#print(average)\n",
    "print((a+b+c)/3)"
   ]
  },
  {
   "cell_type": "raw",
   "metadata": {},
   "source": [
    "Find X raised to power N\n",
    "\n",
    "Sample Input:\n",
    "10\n",
    "4\n",
    "Sample Output:\n",
    "10000\n"
   ]
  },
  {
   "cell_type": "code",
   "execution_count": null,
   "metadata": {},
   "outputs": [],
   "source": [
    "# Write your code here\n",
    "x = int(input())\n",
    "n = int(input())\n",
    "power=x**n\n",
    "print(power)"
   ]
  },
  {
   "cell_type": "raw",
   "metadata": {},
   "source": [
    "Arithmetic Progression\n",
    "Sample Input:\n",
    "1\n",
    "3\n",
    "5\n",
    "Sample Output:\n",
    "2"
   ]
  },
  {
   "cell_type": "code",
   "execution_count": null,
   "metadata": {},
   "outputs": [],
   "source": [
    "a= int (input()) \n",
    "b= int (input()) \n",
    "c= int (input()) \n",
    "ans=b-a \n",
    "print(ans)"
   ]
  },
  {
   "cell_type": "raw",
   "metadata": {},
   "source": [
    "Rectangular Area\n",
    "Sample Input:\n",
    "1\n",
    "1\n",
    "3\n",
    "3\n",
    "Sample Output:\n",
    "4\n",
    "Explanation:\n",
    "The given coordinates of the diagonal are (x1,y1) = (1,1) and (x2,y2) = (3, 3). \n",
    "The area of the rectangle can then easily be calculated as: \n",
    "(3 – 1) * ( 3 – 1) = 2 * 2 = 4 "
   ]
  },
  {
   "cell_type": "code",
   "execution_count": null,
   "metadata": {},
   "outputs": [],
   "source": [
    "# Write your code herex\n",
    "x1= int (input()) \n",
    "y1= int (input()) \n",
    "x2= int (input())\n",
    "y2= int (input())\n",
    "area=(x2-x1) * (y2 - y1) \n",
    "print(area)"
   ]
  }
 ],
 "metadata": {
  "kernelspec": {
   "display_name": "Python 3",
   "language": "python",
   "name": "python3"
  },
  "language_info": {
   "codemirror_mode": {
    "name": "ipython",
    "version": 3
   },
   "file_extension": ".py",
   "mimetype": "text/x-python",
   "name": "python",
   "nbconvert_exporter": "python",
   "pygments_lexer": "ipython3",
   "version": "3.8.5"
  }
 },
 "nbformat": 4,
 "nbformat_minor": 4
}
